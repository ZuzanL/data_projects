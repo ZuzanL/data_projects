{
 "cells": [
  {
   "cell_type": "markdown",
   "metadata": {},
   "source": [
    "### Analyzing Demographic data\n"
   ]
  },
  {
   "cell_type": "markdown",
   "metadata": {},
   "source": [
    "##### Using pandas to answer the following questions:"
   ]
  },
  {
   "cell_type": "code",
   "execution_count": 2,
   "metadata": {},
   "outputs": [
    {
     "name": "stdout",
     "output_type": "stream",
     "text": [
      "<class 'pandas.core.frame.DataFrame'>\n",
      "RangeIndex: 32561 entries, 0 to 32560\n",
      "Data columns (total 15 columns):\n",
      " #   Column          Non-Null Count  Dtype \n",
      "---  ------          --------------  ----- \n",
      " 0   age             32561 non-null  int64 \n",
      " 1   workclass       32561 non-null  object\n",
      " 2   fnlwgt          32561 non-null  int64 \n",
      " 3   education       32561 non-null  object\n",
      " 4   education-num   32561 non-null  int64 \n",
      " 5   marital-status  32561 non-null  object\n",
      " 6   occupation      32561 non-null  object\n",
      " 7   relationship    32561 non-null  object\n",
      " 8   race            32561 non-null  object\n",
      " 9   sex             32561 non-null  object\n",
      " 10  capital-gain    32561 non-null  int64 \n",
      " 11  capital-loss    32561 non-null  int64 \n",
      " 12  hours-per-week  32561 non-null  int64 \n",
      " 13  native-country  32561 non-null  object\n",
      " 14  salary          32561 non-null  object\n",
      "dtypes: int64(6), object(9)\n",
      "memory usage: 3.7+ MB\n",
      "None\n"
     ]
    }
   ],
   "source": [
    "import pandas as pd\n",
    "\n",
    "demographics = pd.read_csv('datasets/adult.data.csv')\n",
    "print(demographics.info())"
   ]
  },
  {
   "cell_type": "markdown",
   "metadata": {},
   "source": [
    "**1. How many people of each race are represented in this dataset? **"
   ]
  },
  {
   "cell_type": "code",
   "execution_count": 3,
   "metadata": {},
   "outputs": [
    {
     "data": {
      "text/plain": [
       "race\n",
       "White                 27816\n",
       "Black                  3124\n",
       "Asian-Pac-Islander     1039\n",
       "Amer-Indian-Eskimo      311\n",
       "Other                   271\n",
       "Name: age, dtype: int64"
      ]
     },
     "execution_count": 3,
     "metadata": {},
     "output_type": "execute_result"
    }
   ],
   "source": [
    "race_count = demographics.groupby(\"race\").count()[\"age\"].sort_values(ascending=False)\n",
    "race_count"
   ]
  },
  {
   "cell_type": "markdown",
   "metadata": {},
   "source": [
    "**2. What is the average age of men?**"
   ]
  },
  {
   "cell_type": "code",
   "execution_count": 4,
   "metadata": {},
   "outputs": [
    {
     "data": {
      "text/plain": [
       "39.4"
      ]
     },
     "execution_count": 4,
     "metadata": {},
     "output_type": "execute_result"
    }
   ],
   "source": [
    "men_age = demographics[demographics['sex'] == 'Male']['age'].mean().round(1)\n",
    "men_age"
   ]
  },
  {
   "cell_type": "markdown",
   "metadata": {},
   "source": [
    "**3. What is the percentage of people who have a Bachelor's degree?**"
   ]
  },
  {
   "cell_type": "code",
   "execution_count": 5,
   "metadata": {},
   "outputs": [
    {
     "data": {
      "text/plain": [
       "16.4"
      ]
     },
     "execution_count": 5,
     "metadata": {},
     "output_type": "execute_result"
    }
   ],
   "source": [
    "bachelors_deg = round(demographics[demographics['education'] == 'Bachelors']['education'].count() / len(demographics) * 100,1)\n",
    "\n",
    "bachelors_deg"
   ]
  },
  {
   "cell_type": "markdown",
   "metadata": {},
   "source": [
    "**4. What percentage of people with advanced education (Bachelors, Masters, or Doctorate) make more than 50K?**"
   ]
  },
  {
   "cell_type": "code",
   "execution_count": 6,
   "metadata": {},
   "outputs": [],
   "source": [
    "lower_edu = demographics[~demographics['education'].isin(['Bachelors', 'Masters', 'Doctorate'])]\n",
    "higher_edu = demographics[demographics['education'].isin(['Bachelors', 'Masters', 'Doctorate'])]"
   ]
  },
  {
   "cell_type": "code",
   "execution_count": 7,
   "metadata": {},
   "outputs": [
    {
     "data": {
      "text/plain": [
       "46.5"
      ]
     },
     "execution_count": 7,
     "metadata": {},
     "output_type": "execute_result"
    }
   ],
   "source": [
    "high_edu_rich = round(demographics[(demographics['education'].isin(['Bachelors', 'Masters', 'Doctorate'])) & (demographics['salary'] == '>50K')]['education'].count()/ len(higher_edu) * 100,1)\n",
    "high_edu_rich"
   ]
  },
  {
   "cell_type": "markdown",
   "metadata": {},
   "source": [
    "**5. What percentage of people without advanced education make more than 50K?**"
   ]
  },
  {
   "cell_type": "code",
   "execution_count": 8,
   "metadata": {},
   "outputs": [
    {
     "data": {
      "text/plain": [
       "17.4"
      ]
     },
     "execution_count": 8,
     "metadata": {},
     "output_type": "execute_result"
    }
   ],
   "source": [
    "low_edu_rich = round(demographics[(~demographics['education'].isin(['Bachelors', 'Masters', 'Doctorate'])) & (demographics['salary'] == '>50K')].count()['education'] / len(lower_edu) * 100,1)\n",
    "low_edu_rich"
   ]
  },
  {
   "cell_type": "markdown",
   "metadata": {},
   "source": [
    "**6. What is the minimum number of hours a person works per week?**"
   ]
  },
  {
   "cell_type": "code",
   "execution_count": 9,
   "metadata": {},
   "outputs": [
    {
     "data": {
      "text/plain": [
       "1"
      ]
     },
     "execution_count": 9,
     "metadata": {},
     "output_type": "execute_result"
    }
   ],
   "source": [
    "min_work_hours = demographics['hours-per-week'].min()\n",
    "min_work_hours"
   ]
  },
  {
   "cell_type": "markdown",
   "metadata": {},
   "source": [
    "**7. What percentage of the people who work the minimum number of hours per week have a salary of more than 50K?**"
   ]
  },
  {
   "cell_type": "code",
   "execution_count": 10,
   "metadata": {},
   "outputs": [
    {
     "data": {
      "text/plain": [
       "10.0"
      ]
     },
     "execution_count": 10,
     "metadata": {},
     "output_type": "execute_result"
    }
   ],
   "source": [
    "min_hours_df = demographics[demographics['hours-per-week'] == min_work_hours]\n",
    "min_hours_rich = min_hours_df[min_hours_df['salary'] == '>50K']['salary'].count() / len(min_hours_df) * 100\n",
    "min_hours_rich"
   ]
  },
  {
   "cell_type": "markdown",
   "metadata": {},
   "source": [
    "**8. What country has the highest percentage of people that earn >50K and what is that percentage?**"
   ]
  },
  {
   "cell_type": "code",
   "execution_count": 11,
   "metadata": {},
   "outputs": [
    {
     "name": "stdout",
     "output_type": "stream",
     "text": [
      "41.9\n",
      "Iran\n"
     ]
    }
   ],
   "source": [
    "rich = demographics[demographics['salary'] == '>50K']\n",
    "country_group = demographics.groupby('native-country').agg({'salary' : 'count'})\n",
    "country_rich = rich.groupby('native-country').agg({'salary' : 'count'})\n",
    "\n",
    "percentage = country_rich / country_group * 100\n",
    "percent = percentage['salary'].max().round(1)\n",
    "\n",
    "country_group_indexmax = percentage['salary'].idxmax()\n",
    "\n",
    "print(percent)\n",
    "print(country_group_indexmax)"
   ]
  },
  {
   "cell_type": "markdown",
   "metadata": {},
   "source": [
    "**9. Identify the most popular occupation for those who earn >50K in India.**"
   ]
  },
  {
   "cell_type": "code",
   "execution_count": 15,
   "metadata": {},
   "outputs": [
    {
     "name": "stdout",
     "output_type": "stream",
     "text": [
      "occupation\n",
      "Adm-clerical         1\n",
      "Exec-managerial      8\n",
      "Other-service        2\n",
      "Prof-specialty      25\n",
      "Sales                1\n",
      "Tech-support         2\n",
      "Transport-moving     1\n",
      "Name: occupation, dtype: int64\n",
      "Prof-specialty\n"
     ]
    }
   ],
   "source": [
    "indian_50K = demographics[(demographics['native-country'] == 'India') & (demographics['salary'] == '>50K')]\n",
    "\n",
    "indian_50K_occupations = indian_50K.groupby('occupation')['occupation'].count()\n",
    "\n",
    "# THE MOST POPULAR OCCUPATION\n",
    "most_popular_occupation = indian_50K['occupation'].value_counts().idxmax()\n",
    "\n",
    "print(indian_50K_occupations)\n",
    "print(most_popular_occupation)"
   ]
  }
 ],
 "metadata": {
  "kernelspec": {
   "display_name": "Python 3",
   "language": "python",
   "name": "python3"
  },
  "language_info": {
   "codemirror_mode": {
    "name": "ipython",
    "version": 3
   },
   "file_extension": ".py",
   "mimetype": "text/x-python",
   "name": "python",
   "nbconvert_exporter": "python",
   "pygments_lexer": "ipython3",
   "version": "3.9.10"
  }
 },
 "nbformat": 4,
 "nbformat_minor": 2
}
